{
 "cells": [
  {
   "cell_type": "code",
   "execution_count": 1,
   "metadata": {},
   "outputs": [],
   "source": [
    "import re\n",
    "import requests\n",
    "from bs4 import BeautifulSoup\n",
    "import datetime as dt\n",
    "\n",
    "r = requests.get('http://bensweather.com')\n",
    "soup = BeautifulSoup(r.content, 'html.parser')\n",
    "forecast = soup.find('table', {\"background\":\"images/7daybg.png\"})"
   ]
  },
  {
   "cell_type": "code",
   "execution_count": 2,
   "metadata": {},
   "outputs": [
    {
     "data": {
      "text/plain": [
       "[<img alt=\"\" height=\"18\" src=\"wxicons/atue.png\" width=\"110\"/>,\n",
       " <img alt=\"\" height=\"75\" src=\"wxicons/showers.png\" width=\"57\"/>,\n",
       " <img alt=\"\" height=\"18\" src=\"wxicons/awed.png\" width=\"110\"/>,\n",
       " <img alt=\"\" height=\"75\" src=\"wxicons/cloudspartly.png\" width=\"75\"/>,\n",
       " <img alt=\"\" height=\"18\" src=\"wxicons/athu.png\" width=\"110\"/>,\n",
       " <img alt=\"\" height=\"75\" src=\"wxicons/sunny.png\" width=\"75\"/>,\n",
       " <img alt=\"\" height=\"18\" src=\"wxicons/afri.png\" width=\"110\"/>,\n",
       " <img alt=\"\" height=\"75\" src=\"wxicons/sunny.png\" width=\"75\"/>,\n",
       " <img alt=\"\" height=\"18\" src=\"wxicons/asat.png\" width=\"110\"/>,\n",
       " <img alt=\"\" height=\"75\" src=\"wxicons/sunny.png\" width=\"75\"/>,\n",
       " <img alt=\"\" height=\"18\" src=\"wxicons/asun.png\" width=\"110\"/>,\n",
       " <img alt=\"\" height=\"75\" src=\"wxicons/sunny.png\" width=\"75\"/>,\n",
       " <img alt=\"\" height=\"18\" src=\"wxicons/amon.png\" width=\"110\"/>,\n",
       " <img alt=\"\" height=\"75\" src=\"wxicons/cloudshigh.png\" width=\"75\"/>]"
      ]
     },
     "execution_count": 2,
     "metadata": {},
     "output_type": "execute_result"
    }
   ],
   "source": [
    "forecast.find_all('img')"
   ]
  },
  {
   "cell_type": "code",
   "execution_count": 7,
   "metadata": {},
   "outputs": [],
   "source": [
    "import re\n",
    "import requests\n",
    "from bs4 import BeautifulSoup\n",
    "import datetime as dt\n",
    "forecasts = ['sunny', 'cloudshigh','cloudspartly', 'smoke','snowshowers']\n",
    "\n",
    "class BensWeatherForecast:\n",
    "    def build(self):\n",
    "        r = requests.get('http://bensweather.com')\n",
    "        soup = BeautifulSoup(r.content, 'html.parser')\n",
    "        forecast = soup.find('table', {\"background\":\"images/7daybg.png\"})\n",
    "        my_forecast = self._initialize_forecast(forecast)\n",
    "        my_forecast = self._decorate_with_weather(my_forecast, forecast)\n",
    "        my_forecast = self._decorate_with_highs_and_lows(my_forecast, forecast)\n",
    "        return my_forecast\n",
    "        \n",
    "    def _initialize_forecast(self, forecast):\n",
    "        my_forecast = []\n",
    "\n",
    "        counter=0\n",
    "        for img in forecast.find_all('img',{'width':'110'}):\n",
    "            if img['src'].startswith('wxicons/a'):\n",
    "                day = img['src'][9:12]\n",
    "                the_date = dt.date.today() + dt.timedelta(days=counter)\n",
    "                my_forecast.append(dict(day=day, dt=the_date))\n",
    "                counter +=1\n",
    "        return my_forecast\n",
    "\n",
    "    def _decorate_with_weather(self, arr, forecast):\n",
    "\n",
    "        counter = 0\n",
    "#         for img in forecast.find_all('img', {'width':'75'}):\n",
    "        for img in forecast.find_all('img'):\n",
    "            if not img['src'].startswith('wxicons/a'):\n",
    "#                 print(img['src'])\n",
    "                weather = img['src'][8:].rstrip('.png')\n",
    "                arr[counter]['forecast'] = weather\n",
    "                counter +=1\n",
    "        return arr\n",
    "\n",
    "    def _decorate_with_highs_and_lows(self, arr, forecast):\n",
    "        counter = 0\n",
    "        forecast_row = forecast.find('tr', {'class':'style42'})\n",
    "        for td in forecast_row.find_all('td'):\n",
    "            parts = td.text.replace('\\n',' ').strip().rstrip(\"'s\").replace('°','').split('/')\n",
    "            result = re.search('(\\d+)', parts[0])\n",
    "            if result is None: continue\n",
    "            high = result[0]\n",
    "            arr[counter]['high'] = int(high)\n",
    "            label = parts[0].split(high)[0].strip().lower()\n",
    "            arr[counter]['description'] = label\n",
    "            low = parts[1].strip()\n",
    "            arr[counter]['low'] = int(low)\n",
    "            counter +=1\n",
    "\n",
    "        return arr"
   ]
  },
  {
   "cell_type": "code",
   "execution_count": 8,
   "metadata": {},
   "outputs": [
    {
     "data": {
      "text/plain": [
       "[{'day': 'tue',\n",
       "  'dt': datetime.date(2022, 1, 18),\n",
       "  'forecast': 'showers',\n",
       "  'high': 48,\n",
       "  'description': 'partly cloudy',\n",
       "  'low': 20},\n",
       " {'day': 'wed',\n",
       "  'dt': datetime.date(2022, 1, 19),\n",
       "  'forecast': 'cloudspartly',\n",
       "  'high': 50,\n",
       "  'description': 'sunny',\n",
       "  'low': 20},\n",
       " {'day': 'thu',\n",
       "  'dt': datetime.date(2022, 1, 20),\n",
       "  'forecast': 'sunny',\n",
       "  'high': 48,\n",
       "  'description': 'sunny',\n",
       "  'low': 20},\n",
       " {'day': 'fri',\n",
       "  'dt': datetime.date(2022, 1, 21),\n",
       "  'forecast': 'sunny',\n",
       "  'high': 45,\n",
       "  'description': 'sunny',\n",
       "  'low': 20},\n",
       " {'day': 'sat',\n",
       "  'dt': datetime.date(2022, 1, 22),\n",
       "  'forecast': 'sunny',\n",
       "  'high': 49,\n",
       "  'description': 'sunny',\n",
       "  'low': 20},\n",
       " {'day': 'sun',\n",
       "  'dt': datetime.date(2022, 1, 23),\n",
       "  'forecast': 'sunny',\n",
       "  'high': 51,\n",
       "  'description': 'mostly sunny',\n",
       "  'low': 20},\n",
       " {'day': 'mon', 'dt': datetime.date(2022, 1, 24), 'forecast': 'cloudshigh'}]"
      ]
     },
     "execution_count": 8,
     "metadata": {},
     "output_type": "execute_result"
    }
   ],
   "source": [
    "my_forecast = BensWeatherForecast().build()\n",
    "my_forecast"
   ]
  },
  {
   "cell_type": "code",
   "execution_count": null,
   "metadata": {},
   "outputs": [],
   "source": []
  },
  {
   "cell_type": "code",
   "execution_count": null,
   "metadata": {},
   "outputs": [],
   "source": []
  }
 ],
 "metadata": {
  "kernelspec": {
   "display_name": "Python 3 (ipykernel)",
   "language": "python",
   "name": "python3"
  },
  "language_info": {
   "codemirror_mode": {
    "name": "ipython",
    "version": 3
   },
   "file_extension": ".py",
   "mimetype": "text/x-python",
   "name": "python",
   "nbconvert_exporter": "python",
   "pygments_lexer": "ipython3",
   "version": "3.9.7"
  }
 },
 "nbformat": 4,
 "nbformat_minor": 4
}
